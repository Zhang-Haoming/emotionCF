{
 "cells": [
  {
   "cell_type": "markdown",
   "metadata": {},
   "source": [
    "# Quick Overview\n",
    "\n",
    "All toolbox algorithms operate on 2d pandas dataframes with rows as unique _users_ and columns as unique _items_. To illustrate basic model fitting and how we handle dense and sparse data differently, we'll use a small simple toy dataset for illustrative purposes."
   ]
  },
  {
   "cell_type": "code",
   "execution_count": 124,
   "metadata": {
    "ExecuteTime": {
     "end_time": "2021-04-01T20:05:41.362947Z",
     "start_time": "2021-04-01T20:05:41.312007Z"
    }
   },
   "outputs": [],
   "source": [
    "import numpy as np\n",
    "import pandas as pd\n",
    "from emotioncf import NNMF_sgd, estimate_performance, approximate_generalization"
   ]
  },
  {
   "cell_type": "code",
   "execution_count": 145,
   "metadata": {
    "ExecuteTime": {
     "end_time": "2021-04-01T20:11:24.471227Z",
     "start_time": "2021-04-01T20:11:24.350134Z"
    }
   },
   "outputs": [],
   "source": [
    "np.random.seed(0)\n",
    "ratings_dict = {\n",
    "    \"Subject\": [\n",
    "        \"A\",\"A\",\"A\",\"A\",\"A\",\"B\",\"B\",\"B\",\"B\",\"B\",\"C\",\"C\",\"C\",\"C\",\"C\",\n",
    "        \"D\",\"D\",\"D\",\"D\",\"D\",\"E\",\"E\",\"E\",\"E\",\"E\",\"F\",\"F\",\"F\",\"F\",\"F\"\n",
    "    ],\n",
    "    \"Item\": [1,2,3,4,5]*6,\n",
    "    \"Rating\": np.random.randint(1, 101, size=30)\n",
    "}\n",
    "df = pd.DataFrame(ratings_dict)\n",
    "mat = create_sub_by_item_matrix(df)"
   ]
  },
  {
   "cell_type": "markdown",
   "metadata": {},
   "source": [
    "# Fitting a model to _dense_ data"
   ]
  },
  {
   "cell_type": "markdown",
   "metadata": {},
   "source": [
    "Here we have a user x item matrix of ratings. Each of **6 users** rated **5 items** on scale from 1-100. This is a _dense_ dataset because every user rated every item, i.e. no values are missing."
   ]
  },
  {
   "cell_type": "code",
   "execution_count": 146,
   "metadata": {
    "ExecuteTime": {
     "end_time": "2021-04-01T20:11:25.963679Z",
     "start_time": "2021-04-01T20:11:25.919367Z"
    }
   },
   "outputs": [
    {
     "data": {
      "text/html": [
       "<div>\n",
       "<style scoped>\n",
       "    .dataframe tbody tr th:only-of-type {\n",
       "        vertical-align: middle;\n",
       "    }\n",
       "\n",
       "    .dataframe tbody tr th {\n",
       "        vertical-align: top;\n",
       "    }\n",
       "\n",
       "    .dataframe thead th {\n",
       "        text-align: right;\n",
       "    }\n",
       "</style>\n",
       "<table border=\"1\" class=\"dataframe\">\n",
       "  <thead>\n",
       "    <tr style=\"text-align: right;\">\n",
       "      <th>Item</th>\n",
       "      <th>1</th>\n",
       "      <th>2</th>\n",
       "      <th>3</th>\n",
       "      <th>4</th>\n",
       "      <th>5</th>\n",
       "    </tr>\n",
       "    <tr>\n",
       "      <th>Subject</th>\n",
       "      <th></th>\n",
       "      <th></th>\n",
       "      <th></th>\n",
       "      <th></th>\n",
       "      <th></th>\n",
       "    </tr>\n",
       "  </thead>\n",
       "  <tbody>\n",
       "    <tr>\n",
       "      <th>A</th>\n",
       "      <td>45</td>\n",
       "      <td>48</td>\n",
       "      <td>65</td>\n",
       "      <td>68</td>\n",
       "      <td>68</td>\n",
       "    </tr>\n",
       "    <tr>\n",
       "      <th>B</th>\n",
       "      <td>10</td>\n",
       "      <td>84</td>\n",
       "      <td>22</td>\n",
       "      <td>37</td>\n",
       "      <td>88</td>\n",
       "    </tr>\n",
       "    <tr>\n",
       "      <th>C</th>\n",
       "      <td>71</td>\n",
       "      <td>89</td>\n",
       "      <td>89</td>\n",
       "      <td>13</td>\n",
       "      <td>59</td>\n",
       "    </tr>\n",
       "    <tr>\n",
       "      <th>D</th>\n",
       "      <td>66</td>\n",
       "      <td>40</td>\n",
       "      <td>88</td>\n",
       "      <td>47</td>\n",
       "      <td>89</td>\n",
       "    </tr>\n",
       "    <tr>\n",
       "      <th>E</th>\n",
       "      <td>82</td>\n",
       "      <td>38</td>\n",
       "      <td>26</td>\n",
       "      <td>78</td>\n",
       "      <td>73</td>\n",
       "    </tr>\n",
       "    <tr>\n",
       "      <th>F</th>\n",
       "      <td>10</td>\n",
       "      <td>21</td>\n",
       "      <td>81</td>\n",
       "      <td>70</td>\n",
       "      <td>80</td>\n",
       "    </tr>\n",
       "  </tbody>\n",
       "</table>\n",
       "</div>"
      ],
      "text/plain": [
       "Item      1   2   3   4   5\n",
       "Subject                    \n",
       "A        45  48  65  68  68\n",
       "B        10  84  22  37  88\n",
       "C        71  89  89  13  59\n",
       "D        66  40  88  47  89\n",
       "E        82  38  26  78  73\n",
       "F        10  21  81  70  80"
      ]
     },
     "execution_count": 146,
     "metadata": {},
     "output_type": "execute_result"
    }
   ],
   "source": [
    "mat"
   ]
  },
  {
   "cell_type": "markdown",
   "metadata": {},
   "source": [
    "We can test how well collaborative filtering would work to recover data _if they were missing_ using the  `NNMF` algorithm trained via stochastic gradient descent. To do so, we can initialize a model and tell it to \"sparsify\" our data by masking out 25% of the values and retaining 75%. "
   ]
  },
  {
   "cell_type": "code",
   "execution_count": 147,
   "metadata": {
    "ExecuteTime": {
     "end_time": "2021-04-01T20:11:27.196317Z",
     "start_time": "2021-04-01T20:11:27.154360Z"
    }
   },
   "outputs": [],
   "source": [
    "model = NNMF_sgd(mat, n_mask_items=.25)"
   ]
  },
  {
   "cell_type": "markdown",
   "metadata": {},
   "source": [
    "We can see that this approximates a dataset in which each user only provided a rating for 4 of the 5 items. We're now going to fit a model to try to recover what these missing ratings *would have been*."
   ]
  },
  {
   "cell_type": "code",
   "execution_count": 148,
   "metadata": {
    "ExecuteTime": {
     "end_time": "2021-04-01T20:11:28.626827Z",
     "start_time": "2021-04-01T20:11:28.585798Z"
    }
   },
   "outputs": [
    {
     "data": {
      "text/html": [
       "<div>\n",
       "<style scoped>\n",
       "    .dataframe tbody tr th:only-of-type {\n",
       "        vertical-align: middle;\n",
       "    }\n",
       "\n",
       "    .dataframe tbody tr th {\n",
       "        vertical-align: top;\n",
       "    }\n",
       "\n",
       "    .dataframe thead th {\n",
       "        text-align: right;\n",
       "    }\n",
       "</style>\n",
       "<table border=\"1\" class=\"dataframe\">\n",
       "  <thead>\n",
       "    <tr style=\"text-align: right;\">\n",
       "      <th>Item</th>\n",
       "      <th>1</th>\n",
       "      <th>2</th>\n",
       "      <th>3</th>\n",
       "      <th>4</th>\n",
       "      <th>5</th>\n",
       "    </tr>\n",
       "    <tr>\n",
       "      <th>Subject</th>\n",
       "      <th></th>\n",
       "      <th></th>\n",
       "      <th></th>\n",
       "      <th></th>\n",
       "      <th></th>\n",
       "    </tr>\n",
       "  </thead>\n",
       "  <tbody>\n",
       "    <tr>\n",
       "      <th>A</th>\n",
       "      <td>45.0</td>\n",
       "      <td>48.0</td>\n",
       "      <td>NaN</td>\n",
       "      <td>68</td>\n",
       "      <td>68.0</td>\n",
       "    </tr>\n",
       "    <tr>\n",
       "      <th>B</th>\n",
       "      <td>10.0</td>\n",
       "      <td>NaN</td>\n",
       "      <td>22.0</td>\n",
       "      <td>37</td>\n",
       "      <td>88.0</td>\n",
       "    </tr>\n",
       "    <tr>\n",
       "      <th>C</th>\n",
       "      <td>NaN</td>\n",
       "      <td>89.0</td>\n",
       "      <td>89.0</td>\n",
       "      <td>13</td>\n",
       "      <td>59.0</td>\n",
       "    </tr>\n",
       "    <tr>\n",
       "      <th>D</th>\n",
       "      <td>66.0</td>\n",
       "      <td>NaN</td>\n",
       "      <td>88.0</td>\n",
       "      <td>47</td>\n",
       "      <td>89.0</td>\n",
       "    </tr>\n",
       "    <tr>\n",
       "      <th>E</th>\n",
       "      <td>82.0</td>\n",
       "      <td>38.0</td>\n",
       "      <td>NaN</td>\n",
       "      <td>78</td>\n",
       "      <td>73.0</td>\n",
       "    </tr>\n",
       "    <tr>\n",
       "      <th>F</th>\n",
       "      <td>10.0</td>\n",
       "      <td>21.0</td>\n",
       "      <td>81.0</td>\n",
       "      <td>70</td>\n",
       "      <td>NaN</td>\n",
       "    </tr>\n",
       "  </tbody>\n",
       "</table>\n",
       "</div>"
      ],
      "text/plain": [
       "Item        1     2     3   4     5\n",
       "Subject                            \n",
       "A        45.0  48.0   NaN  68  68.0\n",
       "B        10.0   NaN  22.0  37  88.0\n",
       "C         NaN  89.0  89.0  13  59.0\n",
       "D        66.0   NaN  88.0  47  89.0\n",
       "E        82.0  38.0   NaN  78  73.0\n",
       "F        10.0  21.0  81.0  70   NaN"
      ]
     },
     "execution_count": 148,
     "metadata": {},
     "output_type": "execute_result"
    }
   ],
   "source": [
    "model.masked_data"
   ]
  },
  {
   "cell_type": "code",
   "execution_count": 149,
   "metadata": {
    "ExecuteTime": {
     "end_time": "2021-04-01T20:11:29.564582Z",
     "start_time": "2021-04-01T20:11:29.509572Z"
    }
   },
   "outputs": [],
   "source": [
    "model.fit()"
   ]
  },
  {
   "cell_type": "markdown",
   "metadata": {
    "heading_collapsed": true
   },
   "source": [
    "## Examining model predictions"
   ]
  },
  {
   "cell_type": "markdown",
   "metadata": {
    "hidden": true
   },
   "source": [
    "Lets take a look the predicted ratings matrix. The model makes predictions for *every* user/item using _observed_ values. This enables the recovery of our _missing_ values."
   ]
  },
  {
   "cell_type": "code",
   "execution_count": 150,
   "metadata": {
    "ExecuteTime": {
     "end_time": "2021-04-01T20:11:31.226754Z",
     "start_time": "2021-04-01T20:11:31.181196Z"
    },
    "hidden": true
   },
   "outputs": [
    {
     "data": {
      "text/html": [
       "<div>\n",
       "<style scoped>\n",
       "    .dataframe tbody tr th:only-of-type {\n",
       "        vertical-align: middle;\n",
       "    }\n",
       "\n",
       "    .dataframe tbody tr th {\n",
       "        vertical-align: top;\n",
       "    }\n",
       "\n",
       "    .dataframe thead th {\n",
       "        text-align: right;\n",
       "    }\n",
       "</style>\n",
       "<table border=\"1\" class=\"dataframe\">\n",
       "  <thead>\n",
       "    <tr style=\"text-align: right;\">\n",
       "      <th>Item</th>\n",
       "      <th>1</th>\n",
       "      <th>2</th>\n",
       "      <th>3</th>\n",
       "      <th>4</th>\n",
       "      <th>5</th>\n",
       "    </tr>\n",
       "    <tr>\n",
       "      <th>Subject</th>\n",
       "      <th></th>\n",
       "      <th></th>\n",
       "      <th></th>\n",
       "      <th></th>\n",
       "      <th></th>\n",
       "    </tr>\n",
       "  </thead>\n",
       "  <tbody>\n",
       "    <tr>\n",
       "      <th>A</th>\n",
       "      <td>44.999151</td>\n",
       "      <td>47.953675</td>\n",
       "      <td>58.691145</td>\n",
       "      <td>67.968257</td>\n",
       "      <td>67.969929</td>\n",
       "    </tr>\n",
       "    <tr>\n",
       "      <th>B</th>\n",
       "      <td>10.000185</td>\n",
       "      <td>46.303640</td>\n",
       "      <td>21.999898</td>\n",
       "      <td>36.999965</td>\n",
       "      <td>88.000474</td>\n",
       "    </tr>\n",
       "    <tr>\n",
       "      <th>C</th>\n",
       "      <td>66.349398</td>\n",
       "      <td>88.990034</td>\n",
       "      <td>88.999753</td>\n",
       "      <td>12.993177</td>\n",
       "      <td>58.992470</td>\n",
       "    </tr>\n",
       "    <tr>\n",
       "      <th>D</th>\n",
       "      <td>66.000434</td>\n",
       "      <td>50.697684</td>\n",
       "      <td>87.999868</td>\n",
       "      <td>46.999740</td>\n",
       "      <td>89.001361</td>\n",
       "    </tr>\n",
       "    <tr>\n",
       "      <th>E</th>\n",
       "      <td>81.999818</td>\n",
       "      <td>37.996828</td>\n",
       "      <td>58.978183</td>\n",
       "      <td>77.997957</td>\n",
       "      <td>72.997430</td>\n",
       "    </tr>\n",
       "    <tr>\n",
       "      <th>F</th>\n",
       "      <td>9.999371</td>\n",
       "      <td>21.006285</td>\n",
       "      <td>81.000367</td>\n",
       "      <td>70.005018</td>\n",
       "      <td>91.235274</td>\n",
       "    </tr>\n",
       "  </tbody>\n",
       "</table>\n",
       "</div>"
      ],
      "text/plain": [
       "Item             1          2          3          4          5\n",
       "Subject                                                       \n",
       "A        44.999151  47.953675  58.691145  67.968257  67.969929\n",
       "B        10.000185  46.303640  21.999898  36.999965  88.000474\n",
       "C        66.349398  88.990034  88.999753  12.993177  58.992470\n",
       "D        66.000434  50.697684  87.999868  46.999740  89.001361\n",
       "E        81.999818  37.996828  58.978183  77.997957  72.997430\n",
       "F         9.999371  21.006285  81.000367  70.005018  91.235274"
      ]
     },
     "execution_count": 150,
     "metadata": {},
     "output_type": "execute_result"
    }
   ],
   "source": [
    "model.predictions"
   ]
  },
  {
   "cell_type": "markdown",
   "metadata": {
    "hidden": true
   },
   "source": [
    "We can calculate how well our model did using the `.score()` method. By default this calculates the root mean squared error (RMSE) of our predictions vs the  _true missing_ values, i.e. the 25% we masked out.\n",
    "\n",
    "RMSE is interpretable as the average amount of error on the *original scale* of the data (1-100). We can see that the model easily learns to re-create the original (`observed`) ratings nearly perfectly, but its performance is lower on the unobserved ratings (`missing`). The `full` RMSE just reflects the error combined across both `observed` and `missing` values."
   ]
  },
  {
   "cell_type": "code",
   "execution_count": 151,
   "metadata": {
    "ExecuteTime": {
     "end_time": "2021-04-01T20:11:32.177958Z",
     "start_time": "2021-04-01T20:11:32.133730Z"
    },
    "hidden": true
   },
   "outputs": [
    {
     "name": "stdout",
     "output_type": "stream",
     "text": [
      "RMSE observed: 0.01346242071583265\n",
      "RMSE missing: 21.64361991977338\n",
      "RMSE all: 9.679328573601552\n"
     ]
    }
   ],
   "source": [
    "print(f\"RMSE observed: {model.score(dataset='observed')}\")\n",
    "print(f\"RMSE missing: {model.score(dataset='missing')}\")\n",
    "print(f\"RMSE all: {model.score(dataset='full')}\")"
   ]
  },
  {
   "cell_type": "markdown",
   "metadata": {
    "heading_collapsed": true
   },
   "source": [
    "## Evaluting Model Fit"
   ]
  },
  {
   "cell_type": "markdown",
   "metadata": {
    "hidden": true
   },
   "source": [
    "RMSE isn't the only performance metric we currently support. We can also calculate:\n",
    "\n",
    "- mean-absolute-error (MAE)\n",
    "- mean-squared-error (MSE)\n",
    "- pearson correlation\n",
    "\n",
    "At the same time we can calculate these performance metrics by _grouping_ the data in two different ways:\n",
    "\n",
    "1. _user_ model fit: this is the performance calculated _separately_ per user and then averaged. This approach is more common for calculating metrics in psychological and social science research. \n",
    "2. _overall_ model fit: this is the performance ignoring the fact that scores from the same user might be more similar. This is more commonly used in machine-learning or industry settings.\n",
    "\n",
    "Rather writing custom code to repeatedly call `.score()` for each metric and group, we provide a convenient `.summary()` method which will calculate all of these!\n"
   ]
  },
  {
   "cell_type": "code",
   "execution_count": 152,
   "metadata": {
    "ExecuteTime": {
     "end_time": "2021-04-01T20:11:34.641459Z",
     "start_time": "2021-04-01T20:11:34.532707Z"
    },
    "hidden": true
   },
   "outputs": [
    {
     "data": {
      "text/html": [
       "<div>\n",
       "<style scoped>\n",
       "    .dataframe tbody tr th:only-of-type {\n",
       "        vertical-align: middle;\n",
       "    }\n",
       "\n",
       "    .dataframe tbody tr th {\n",
       "        vertical-align: top;\n",
       "    }\n",
       "\n",
       "    .dataframe thead th {\n",
       "        text-align: right;\n",
       "    }\n",
       "</style>\n",
       "<table border=\"1\" class=\"dataframe\">\n",
       "  <thead>\n",
       "    <tr style=\"text-align: right;\">\n",
       "      <th></th>\n",
       "      <th>algorithm</th>\n",
       "      <th>dataset</th>\n",
       "      <th>group</th>\n",
       "      <th>metric</th>\n",
       "      <th>score</th>\n",
       "    </tr>\n",
       "  </thead>\n",
       "  <tbody>\n",
       "    <tr>\n",
       "      <th>0</th>\n",
       "      <td>NNMF_sgd</td>\n",
       "      <td>full</td>\n",
       "      <td>all</td>\n",
       "      <td>correlation</td>\n",
       "      <td>0.928144</td>\n",
       "    </tr>\n",
       "    <tr>\n",
       "      <th>1</th>\n",
       "      <td>NNMF_sgd</td>\n",
       "      <td>full</td>\n",
       "      <td>all</td>\n",
       "      <td>mae</td>\n",
       "      <td>3.457459</td>\n",
       "    </tr>\n",
       "    <tr>\n",
       "      <th>2</th>\n",
       "      <td>NNMF_sgd</td>\n",
       "      <td>full</td>\n",
       "      <td>all</td>\n",
       "      <td>mse</td>\n",
       "      <td>93.689402</td>\n",
       "    </tr>\n",
       "    <tr>\n",
       "      <th>3</th>\n",
       "      <td>NNMF_sgd</td>\n",
       "      <td>full</td>\n",
       "      <td>all</td>\n",
       "      <td>rmse</td>\n",
       "      <td>9.679329</td>\n",
       "    </tr>\n",
       "    <tr>\n",
       "      <th>4</th>\n",
       "      <td>NNMF_sgd</td>\n",
       "      <td>full</td>\n",
       "      <td>user</td>\n",
       "      <td>correlation</td>\n",
       "      <td>0.942099</td>\n",
       "    </tr>\n",
       "    <tr>\n",
       "      <th>5</th>\n",
       "      <td>NNMF_sgd</td>\n",
       "      <td>full</td>\n",
       "      <td>user</td>\n",
       "      <td>mae</td>\n",
       "      <td>3.457459</td>\n",
       "    </tr>\n",
       "    <tr>\n",
       "      <th>6</th>\n",
       "      <td>NNMF_sgd</td>\n",
       "      <td>full</td>\n",
       "      <td>user</td>\n",
       "      <td>mse</td>\n",
       "      <td>93.689402</td>\n",
       "    </tr>\n",
       "    <tr>\n",
       "      <th>7</th>\n",
       "      <td>NNMF_sgd</td>\n",
       "      <td>full</td>\n",
       "      <td>user</td>\n",
       "      <td>rmse</td>\n",
       "      <td>7.719451</td>\n",
       "    </tr>\n",
       "    <tr>\n",
       "      <th>8</th>\n",
       "      <td>NNMF_sgd</td>\n",
       "      <td>missing</td>\n",
       "      <td>all</td>\n",
       "      <td>correlation</td>\n",
       "      <td>0.308510</td>\n",
       "    </tr>\n",
       "    <tr>\n",
       "      <th>9</th>\n",
       "      <td>NNMF_sgd</td>\n",
       "      <td>missing</td>\n",
       "      <td>all</td>\n",
       "      <td>mae</td>\n",
       "      <td>17.261160</td>\n",
       "    </tr>\n",
       "    <tr>\n",
       "      <th>10</th>\n",
       "      <td>NNMF_sgd</td>\n",
       "      <td>missing</td>\n",
       "      <td>all</td>\n",
       "      <td>mse</td>\n",
       "      <td>468.446283</td>\n",
       "    </tr>\n",
       "    <tr>\n",
       "      <th>11</th>\n",
       "      <td>NNMF_sgd</td>\n",
       "      <td>missing</td>\n",
       "      <td>all</td>\n",
       "      <td>rmse</td>\n",
       "      <td>21.643620</td>\n",
       "    </tr>\n",
       "    <tr>\n",
       "      <th>12</th>\n",
       "      <td>NNMF_sgd</td>\n",
       "      <td>missing</td>\n",
       "      <td>user</td>\n",
       "      <td>correlation</td>\n",
       "      <td>NaN</td>\n",
       "    </tr>\n",
       "    <tr>\n",
       "      <th>13</th>\n",
       "      <td>NNMF_sgd</td>\n",
       "      <td>missing</td>\n",
       "      <td>user</td>\n",
       "      <td>mae</td>\n",
       "      <td>17.261160</td>\n",
       "    </tr>\n",
       "    <tr>\n",
       "      <th>14</th>\n",
       "      <td>NNMF_sgd</td>\n",
       "      <td>missing</td>\n",
       "      <td>user</td>\n",
       "      <td>mse</td>\n",
       "      <td>468.446283</td>\n",
       "    </tr>\n",
       "    <tr>\n",
       "      <th>15</th>\n",
       "      <td>NNMF_sgd</td>\n",
       "      <td>missing</td>\n",
       "      <td>user</td>\n",
       "      <td>rmse</td>\n",
       "      <td>17.261160</td>\n",
       "    </tr>\n",
       "    <tr>\n",
       "      <th>16</th>\n",
       "      <td>NNMF_sgd</td>\n",
       "      <td>observed</td>\n",
       "      <td>all</td>\n",
       "      <td>correlation</td>\n",
       "      <td>1.000000</td>\n",
       "    </tr>\n",
       "    <tr>\n",
       "      <th>17</th>\n",
       "      <td>NNMF_sgd</td>\n",
       "      <td>observed</td>\n",
       "      <td>all</td>\n",
       "      <td>mae</td>\n",
       "      <td>0.006533</td>\n",
       "    </tr>\n",
       "    <tr>\n",
       "      <th>18</th>\n",
       "      <td>NNMF_sgd</td>\n",
       "      <td>observed</td>\n",
       "      <td>all</td>\n",
       "      <td>mse</td>\n",
       "      <td>0.000181</td>\n",
       "    </tr>\n",
       "    <tr>\n",
       "      <th>19</th>\n",
       "      <td>NNMF_sgd</td>\n",
       "      <td>observed</td>\n",
       "      <td>all</td>\n",
       "      <td>rmse</td>\n",
       "      <td>0.013462</td>\n",
       "    </tr>\n",
       "    <tr>\n",
       "      <th>20</th>\n",
       "      <td>NNMF_sgd</td>\n",
       "      <td>observed</td>\n",
       "      <td>user</td>\n",
       "      <td>correlation</td>\n",
       "      <td>1.000000</td>\n",
       "    </tr>\n",
       "    <tr>\n",
       "      <th>21</th>\n",
       "      <td>NNMF_sgd</td>\n",
       "      <td>observed</td>\n",
       "      <td>user</td>\n",
       "      <td>mae</td>\n",
       "      <td>0.006533</td>\n",
       "    </tr>\n",
       "    <tr>\n",
       "      <th>22</th>\n",
       "      <td>NNMF_sgd</td>\n",
       "      <td>observed</td>\n",
       "      <td>user</td>\n",
       "      <td>mse</td>\n",
       "      <td>0.000181</td>\n",
       "    </tr>\n",
       "    <tr>\n",
       "      <th>23</th>\n",
       "      <td>NNMF_sgd</td>\n",
       "      <td>observed</td>\n",
       "      <td>user</td>\n",
       "      <td>rmse</td>\n",
       "      <td>0.007714</td>\n",
       "    </tr>\n",
       "  </tbody>\n",
       "</table>\n",
       "</div>"
      ],
      "text/plain": [
       "   algorithm   dataset group       metric       score\n",
       "0   NNMF_sgd      full   all  correlation    0.928144\n",
       "1   NNMF_sgd      full   all          mae    3.457459\n",
       "2   NNMF_sgd      full   all          mse   93.689402\n",
       "3   NNMF_sgd      full   all         rmse    9.679329\n",
       "4   NNMF_sgd      full  user  correlation    0.942099\n",
       "5   NNMF_sgd      full  user          mae    3.457459\n",
       "6   NNMF_sgd      full  user          mse   93.689402\n",
       "7   NNMF_sgd      full  user         rmse    7.719451\n",
       "8   NNMF_sgd   missing   all  correlation    0.308510\n",
       "9   NNMF_sgd   missing   all          mae   17.261160\n",
       "10  NNMF_sgd   missing   all          mse  468.446283\n",
       "11  NNMF_sgd   missing   all         rmse   21.643620\n",
       "12  NNMF_sgd   missing  user  correlation         NaN\n",
       "13  NNMF_sgd   missing  user          mae   17.261160\n",
       "14  NNMF_sgd   missing  user          mse  468.446283\n",
       "15  NNMF_sgd   missing  user         rmse   17.261160\n",
       "16  NNMF_sgd  observed   all  correlation    1.000000\n",
       "17  NNMF_sgd  observed   all          mae    0.006533\n",
       "18  NNMF_sgd  observed   all          mse    0.000181\n",
       "19  NNMF_sgd  observed   all         rmse    0.013462\n",
       "20  NNMF_sgd  observed  user  correlation    1.000000\n",
       "21  NNMF_sgd  observed  user          mae    0.006533\n",
       "22  NNMF_sgd  observed  user          mse    0.000181\n",
       "23  NNMF_sgd  observed  user         rmse    0.007714"
      ]
     },
     "execution_count": 152,
     "metadata": {},
     "output_type": "execute_result"
    }
   ],
   "source": [
    "model.summary()"
   ]
  },
  {
   "cell_type": "markdown",
   "metadata": {
    "heading_collapsed": true
   },
   "source": [
    "## Benchmarking Model Performance"
   ]
  },
  {
   "cell_type": "markdown",
   "metadata": {
    "hidden": true
   },
   "source": [
    "For benchmarking a model's performance given dense data, it's helpful to repeat the process above (masking, fitting, scoring) multiple times with different random masks. We can then compute the _average_ performance across these multiple runs to ensure that a model's performance isn't a fluke due to a particular combination of masked and unmasked data. \n",
    "\n",
    "For convenience we offer an `esimate_performance` function that does just that! Let's run it for 10 iterations with the same level of masking (75%)"
   ]
  },
  {
   "cell_type": "code",
   "execution_count": 153,
   "metadata": {
    "ExecuteTime": {
     "end_time": "2021-04-01T20:11:43.281496Z",
     "start_time": "2021-04-01T20:11:42.738437Z"
    },
    "hidden": true
   },
   "outputs": [],
   "source": [
    "all_results = estimate_performance(\n",
    "    NNMF_sgd, mat, n_iter=10, model_kwargs={\"n_mask_items\": 0.75}\n",
    ")"
   ]
  },
  {
   "cell_type": "markdown",
   "metadata": {
    "hidden": true
   },
   "source": [
    "We can see now that the performance we observed above on `missing` data was a \"lucky\" overestimate. After rerunning the estimation with different random masks, the mean performance drops substantially and there's quite a bit of variance. This is because our dataset is a small toy example."
   ]
  },
  {
   "cell_type": "code",
   "execution_count": 154,
   "metadata": {
    "ExecuteTime": {
     "end_time": "2021-04-01T20:11:44.322164Z",
     "start_time": "2021-04-01T20:11:44.274622Z"
    },
    "hidden": true,
    "scrolled": false
   },
   "outputs": [
    {
     "data": {
      "text/html": [
       "<div>\n",
       "<style scoped>\n",
       "    .dataframe tbody tr th:only-of-type {\n",
       "        vertical-align: middle;\n",
       "    }\n",
       "\n",
       "    .dataframe tbody tr th {\n",
       "        vertical-align: top;\n",
       "    }\n",
       "\n",
       "    .dataframe thead th {\n",
       "        text-align: right;\n",
       "    }\n",
       "</style>\n",
       "<table border=\"1\" class=\"dataframe\">\n",
       "  <thead>\n",
       "    <tr style=\"text-align: right;\">\n",
       "      <th></th>\n",
       "      <th>algorithm</th>\n",
       "      <th>dataset</th>\n",
       "      <th>group</th>\n",
       "      <th>metric</th>\n",
       "      <th>mean</th>\n",
       "      <th>std</th>\n",
       "    </tr>\n",
       "  </thead>\n",
       "  <tbody>\n",
       "    <tr>\n",
       "      <th>0</th>\n",
       "      <td>NNMF_sgd</td>\n",
       "      <td>full</td>\n",
       "      <td>all</td>\n",
       "      <td>correlation</td>\n",
       "      <td>0.273217</td>\n",
       "      <td>0.084262</td>\n",
       "    </tr>\n",
       "    <tr>\n",
       "      <th>1</th>\n",
       "      <td>NNMF_sgd</td>\n",
       "      <td>full</td>\n",
       "      <td>all</td>\n",
       "      <td>mae</td>\n",
       "      <td>20.185084</td>\n",
       "      <td>1.769544</td>\n",
       "    </tr>\n",
       "    <tr>\n",
       "      <th>2</th>\n",
       "      <td>NNMF_sgd</td>\n",
       "      <td>full</td>\n",
       "      <td>all</td>\n",
       "      <td>mse</td>\n",
       "      <td>791.135264</td>\n",
       "      <td>164.597010</td>\n",
       "    </tr>\n",
       "    <tr>\n",
       "      <th>3</th>\n",
       "      <td>NNMF_sgd</td>\n",
       "      <td>full</td>\n",
       "      <td>all</td>\n",
       "      <td>rmse</td>\n",
       "      <td>28.005223</td>\n",
       "      <td>2.757363</td>\n",
       "    </tr>\n",
       "    <tr>\n",
       "      <th>4</th>\n",
       "      <td>NNMF_sgd</td>\n",
       "      <td>full</td>\n",
       "      <td>user</td>\n",
       "      <td>correlation</td>\n",
       "      <td>0.246005</td>\n",
       "      <td>0.163178</td>\n",
       "    </tr>\n",
       "    <tr>\n",
       "      <th>5</th>\n",
       "      <td>NNMF_sgd</td>\n",
       "      <td>full</td>\n",
       "      <td>user</td>\n",
       "      <td>mae</td>\n",
       "      <td>20.185084</td>\n",
       "      <td>1.769544</td>\n",
       "    </tr>\n",
       "    <tr>\n",
       "      <th>6</th>\n",
       "      <td>NNMF_sgd</td>\n",
       "      <td>full</td>\n",
       "      <td>user</td>\n",
       "      <td>mse</td>\n",
       "      <td>791.135264</td>\n",
       "      <td>164.597010</td>\n",
       "    </tr>\n",
       "    <tr>\n",
       "      <th>7</th>\n",
       "      <td>NNMF_sgd</td>\n",
       "      <td>full</td>\n",
       "      <td>user</td>\n",
       "      <td>rmse</td>\n",
       "      <td>26.824523</td>\n",
       "      <td>2.808243</td>\n",
       "    </tr>\n",
       "    <tr>\n",
       "      <th>8</th>\n",
       "      <td>NNMF_sgd</td>\n",
       "      <td>missing</td>\n",
       "      <td>all</td>\n",
       "      <td>correlation</td>\n",
       "      <td>-0.057269</td>\n",
       "      <td>0.249291</td>\n",
       "    </tr>\n",
       "    <tr>\n",
       "      <th>9</th>\n",
       "      <td>NNMF_sgd</td>\n",
       "      <td>missing</td>\n",
       "      <td>all</td>\n",
       "      <td>mae</td>\n",
       "      <td>25.227155</td>\n",
       "      <td>2.208383</td>\n",
       "    </tr>\n",
       "    <tr>\n",
       "      <th>10</th>\n",
       "      <td>NNMF_sgd</td>\n",
       "      <td>missing</td>\n",
       "      <td>all</td>\n",
       "      <td>mse</td>\n",
       "      <td>988.918194</td>\n",
       "      <td>205.744636</td>\n",
       "    </tr>\n",
       "    <tr>\n",
       "      <th>11</th>\n",
       "      <td>NNMF_sgd</td>\n",
       "      <td>missing</td>\n",
       "      <td>all</td>\n",
       "      <td>rmse</td>\n",
       "      <td>31.310779</td>\n",
       "      <td>3.082804</td>\n",
       "    </tr>\n",
       "    <tr>\n",
       "      <th>12</th>\n",
       "      <td>NNMF_sgd</td>\n",
       "      <td>missing</td>\n",
       "      <td>user</td>\n",
       "      <td>correlation</td>\n",
       "      <td>-0.016192</td>\n",
       "      <td>0.226723</td>\n",
       "    </tr>\n",
       "    <tr>\n",
       "      <th>13</th>\n",
       "      <td>NNMF_sgd</td>\n",
       "      <td>missing</td>\n",
       "      <td>user</td>\n",
       "      <td>mae</td>\n",
       "      <td>25.227155</td>\n",
       "      <td>2.208383</td>\n",
       "    </tr>\n",
       "    <tr>\n",
       "      <th>14</th>\n",
       "      <td>NNMF_sgd</td>\n",
       "      <td>missing</td>\n",
       "      <td>user</td>\n",
       "      <td>mse</td>\n",
       "      <td>988.918194</td>\n",
       "      <td>205.744636</td>\n",
       "    </tr>\n",
       "    <tr>\n",
       "      <th>15</th>\n",
       "      <td>NNMF_sgd</td>\n",
       "      <td>missing</td>\n",
       "      <td>user</td>\n",
       "      <td>rmse</td>\n",
       "      <td>29.990713</td>\n",
       "      <td>3.139689</td>\n",
       "    </tr>\n",
       "    <tr>\n",
       "      <th>16</th>\n",
       "      <td>NNMF_sgd</td>\n",
       "      <td>observed</td>\n",
       "      <td>all</td>\n",
       "      <td>correlation</td>\n",
       "      <td>0.999985</td>\n",
       "      <td>0.000041</td>\n",
       "    </tr>\n",
       "    <tr>\n",
       "      <th>17</th>\n",
       "      <td>NNMF_sgd</td>\n",
       "      <td>observed</td>\n",
       "      <td>all</td>\n",
       "      <td>mae</td>\n",
       "      <td>0.016797</td>\n",
       "      <td>0.020104</td>\n",
       "    </tr>\n",
       "    <tr>\n",
       "      <th>18</th>\n",
       "      <td>NNMF_sgd</td>\n",
       "      <td>observed</td>\n",
       "      <td>all</td>\n",
       "      <td>mse</td>\n",
       "      <td>0.003544</td>\n",
       "      <td>0.007251</td>\n",
       "    </tr>\n",
       "    <tr>\n",
       "      <th>19</th>\n",
       "      <td>NNMF_sgd</td>\n",
       "      <td>observed</td>\n",
       "      <td>all</td>\n",
       "      <td>rmse</td>\n",
       "      <td>0.039425</td>\n",
       "      <td>0.047013</td>\n",
       "    </tr>\n",
       "    <tr>\n",
       "      <th>20</th>\n",
       "      <td>NNMF_sgd</td>\n",
       "      <td>observed</td>\n",
       "      <td>user</td>\n",
       "      <td>correlation</td>\n",
       "      <td>NaN</td>\n",
       "      <td>NaN</td>\n",
       "    </tr>\n",
       "    <tr>\n",
       "      <th>21</th>\n",
       "      <td>NNMF_sgd</td>\n",
       "      <td>observed</td>\n",
       "      <td>user</td>\n",
       "      <td>mae</td>\n",
       "      <td>0.016797</td>\n",
       "      <td>0.020104</td>\n",
       "    </tr>\n",
       "    <tr>\n",
       "      <th>22</th>\n",
       "      <td>NNMF_sgd</td>\n",
       "      <td>observed</td>\n",
       "      <td>user</td>\n",
       "      <td>mse</td>\n",
       "      <td>0.003544</td>\n",
       "      <td>0.007251</td>\n",
       "    </tr>\n",
       "    <tr>\n",
       "      <th>23</th>\n",
       "      <td>NNMF_sgd</td>\n",
       "      <td>observed</td>\n",
       "      <td>user</td>\n",
       "      <td>rmse</td>\n",
       "      <td>0.016797</td>\n",
       "      <td>0.020104</td>\n",
       "    </tr>\n",
       "  </tbody>\n",
       "</table>\n",
       "</div>"
      ],
      "text/plain": [
       "   algorithm   dataset group       metric        mean         std\n",
       "0   NNMF_sgd      full   all  correlation    0.273217    0.084262\n",
       "1   NNMF_sgd      full   all          mae   20.185084    1.769544\n",
       "2   NNMF_sgd      full   all          mse  791.135264  164.597010\n",
       "3   NNMF_sgd      full   all         rmse   28.005223    2.757363\n",
       "4   NNMF_sgd      full  user  correlation    0.246005    0.163178\n",
       "5   NNMF_sgd      full  user          mae   20.185084    1.769544\n",
       "6   NNMF_sgd      full  user          mse  791.135264  164.597010\n",
       "7   NNMF_sgd      full  user         rmse   26.824523    2.808243\n",
       "8   NNMF_sgd   missing   all  correlation   -0.057269    0.249291\n",
       "9   NNMF_sgd   missing   all          mae   25.227155    2.208383\n",
       "10  NNMF_sgd   missing   all          mse  988.918194  205.744636\n",
       "11  NNMF_sgd   missing   all         rmse   31.310779    3.082804\n",
       "12  NNMF_sgd   missing  user  correlation   -0.016192    0.226723\n",
       "13  NNMF_sgd   missing  user          mae   25.227155    2.208383\n",
       "14  NNMF_sgd   missing  user          mse  988.918194  205.744636\n",
       "15  NNMF_sgd   missing  user         rmse   29.990713    3.139689\n",
       "16  NNMF_sgd  observed   all  correlation    0.999985    0.000041\n",
       "17  NNMF_sgd  observed   all          mae    0.016797    0.020104\n",
       "18  NNMF_sgd  observed   all          mse    0.003544    0.007251\n",
       "19  NNMF_sgd  observed   all         rmse    0.039425    0.047013\n",
       "20  NNMF_sgd  observed  user  correlation         NaN         NaN\n",
       "21  NNMF_sgd  observed  user          mae    0.016797    0.020104\n",
       "22  NNMF_sgd  observed  user          mse    0.003544    0.007251\n",
       "23  NNMF_sgd  observed  user         rmse    0.016797    0.020104"
      ]
     },
     "execution_count": 154,
     "metadata": {},
     "output_type": "execute_result"
    }
   ],
   "source": [
    "all_results"
   ]
  },
  {
   "cell_type": "markdown",
   "metadata": {},
   "source": [
    "# Fitting a model to _sparse_ data"
   ]
  },
  {
   "cell_type": "markdown",
   "metadata": {},
   "source": [
    "While manually \"sparsifying\" a dense dataset is useful for benchmarking, in many scenarios data will _already_ be sparse and we won't have ground truth values to compare against. Of course models support this use case as well. This time when we intialize a model we don't pass in any thing for `n_mask_items`. Models are smart enough to raise an error if provided a sparse dataset and additional masking is requested."
   ]
  },
  {
   "cell_type": "code",
   "execution_count": 155,
   "metadata": {
    "ExecuteTime": {
     "end_time": "2021-04-01T20:12:24.291862Z",
     "start_time": "2021-04-01T20:12:24.248832Z"
    }
   },
   "outputs": [
    {
     "name": "stdout",
     "output_type": "stream",
     "text": [
      "data contains NaNs...treating as pre-masked\n"
     ]
    }
   ],
   "source": [
    "# Lets use our masked data from before as if it were a real dataset\n",
    "real_sparse_mat = model.masked_data\n",
    "\n",
    "new_model = NNMF_sgd(real_sparse_mat)"
   ]
  },
  {
   "cell_type": "markdown",
   "metadata": {},
   "source": [
    "Now we can proceed to fitting just like before, but there's a catch:\n",
    "\n",
    "this time we won't be able to obtain a score for the _missing_ data because we never observed it in teh first place!"
   ]
  },
  {
   "cell_type": "code",
   "execution_count": 156,
   "metadata": {
    "ExecuteTime": {
     "end_time": "2021-04-01T20:12:28.354110Z",
     "start_time": "2021-04-01T20:12:28.299249Z"
    }
   },
   "outputs": [
    {
     "name": "stdout",
     "output_type": "stream",
     "text": [
      "RMSE observed: 0.01167553207781378\n",
      "RMSE all: 0.01167553207781378\n"
     ]
    }
   ],
   "source": [
    "new_model.fit()\n",
    "print(f\"RMSE observed: {new_model.score(dataset='observed')}\")\n",
    "print(f\"RMSE all: {new_model.score(dataset='full')}\")"
   ]
  },
  {
   "cell_type": "code",
   "execution_count": 157,
   "metadata": {
    "ExecuteTime": {
     "end_time": "2021-04-01T20:12:29.093315Z",
     "start_time": "2021-04-01T20:12:29.053547Z"
    }
   },
   "outputs": [
    {
     "name": "stdout",
     "output_type": "stream",
     "text": [
      "RMSE missing: None\n"
     ]
    },
    {
     "name": "stderr",
     "output_type": "stream",
     "text": [
      "/Users/Esh/Documents/pypackages/emotioncf/emotioncf/base.py:138: UserWarning: Cannot score predictions on missing data because true values were never observed!\n",
      "  warnings.warn(\n"
     ]
    }
   ],
   "source": [
    "print(f\"RMSE missing: {new_model.score(dataset='missing')}\")"
   ]
  },
  {
   "cell_type": "markdown",
   "metadata": {},
   "source": [
    "## Benchmarking Model Performance"
   ]
  },
  {
   "cell_type": "markdown",
   "metadata": {},
   "source": [
    "One popular approach to handle this scenario is to use _cross-validation_, whereby a model is estimated on a subset of the data (_train_ set) and evaluated on an independent subset (_test_ set). In a collaborative filtering context, standard methods to generate cross-validation folds, such as those provided by `sklearn` will not work. This is because we don't want to train on a subset of _users_ or a subset of _items_ (observations and features respectively in a typical supervised-learning situation). Instead, we want to predict new _combinations_ of users + items that we did not observe.\n",
    "\n",
    "To do this we can add _additional sparsity_ in a way keeps track of which user-item values we mask out in the training set to ensure that these values are \"un-masked\" in the testing set. By doing this we, can evaluate the performance of a model despite having sparse (missing) data to begin with!\n",
    "\n",
    "Using this approach we actually have 2 different kinds of sparsity: \n",
    "\n",
    "1. A value that was *never* observed and therefore doesn't exist at all in either train or test splits. By definition, there's no way for us to incorporate this into model evaluation. \n",
    "2. A value we _manually mask out_ when fitting the model (train set) and _unmask_ when we want to evaluate the model (test set). These observations will serve as the model's _generalization_ performance. "
   ]
  },
  {
   "cell_type": "markdown",
   "metadata": {},
   "source": [
    "To make this kind of estimation simple we offer another convenience function: `approximate_generalization`.\n",
    "\n",
    "**Note**: keep in mind that using this approach will _increase_ the sparsity of an already sparse dataset!\n",
    "\n",
    "You can control the extent to which this happens using the `n_folds` parameter. More folds, means that the model is trained on _more_ data thereby decreasing the additional sparsity."
   ]
  },
  {
   "cell_type": "markdown",
   "metadata": {},
   "source": [
    "Here we run this using 10 folds which means that ~90% of the _observed_ values will be used for training the model and ~10% of the _observed_ values will be used for testing performance."
   ]
  },
  {
   "cell_type": "code",
   "execution_count": 158,
   "metadata": {
    "ExecuteTime": {
     "end_time": "2021-04-01T20:12:43.396830Z",
     "start_time": "2021-04-01T20:12:42.968779Z"
    }
   },
   "outputs": [],
   "source": [
    "cv_results = approximate_generalization(NNMF_sgd, real_sparse_mat, n_folds=10)"
   ]
  },
  {
   "cell_type": "markdown",
   "metadata": {},
   "source": [
    "In this particular example, the performance of our model on unseen data drops even further because of how small our dataset was to begin with."
   ]
  },
  {
   "cell_type": "code",
   "execution_count": 159,
   "metadata": {
    "ExecuteTime": {
     "end_time": "2021-04-01T20:12:44.303068Z",
     "start_time": "2021-04-01T20:12:44.255968Z"
    },
    "scrolled": false
   },
   "outputs": [
    {
     "data": {
      "text/html": [
       "<div>\n",
       "<style scoped>\n",
       "    .dataframe tbody tr th:only-of-type {\n",
       "        vertical-align: middle;\n",
       "    }\n",
       "\n",
       "    .dataframe tbody tr th {\n",
       "        vertical-align: top;\n",
       "    }\n",
       "\n",
       "    .dataframe thead th {\n",
       "        text-align: right;\n",
       "    }\n",
       "</style>\n",
       "<table border=\"1\" class=\"dataframe\">\n",
       "  <thead>\n",
       "    <tr style=\"text-align: right;\">\n",
       "      <th></th>\n",
       "      <th>algorithm</th>\n",
       "      <th>dataset</th>\n",
       "      <th>group</th>\n",
       "      <th>metric</th>\n",
       "      <th>mean</th>\n",
       "      <th>std</th>\n",
       "    </tr>\n",
       "  </thead>\n",
       "  <tbody>\n",
       "    <tr>\n",
       "      <th>0</th>\n",
       "      <td>NNMF_sgd</td>\n",
       "      <td>test</td>\n",
       "      <td>all</td>\n",
       "      <td>correlation</td>\n",
       "      <td>-0.404187</td>\n",
       "      <td>8.748287e-01</td>\n",
       "    </tr>\n",
       "    <tr>\n",
       "      <th>1</th>\n",
       "      <td>NNMF_sgd</td>\n",
       "      <td>test</td>\n",
       "      <td>all</td>\n",
       "      <td>mae</td>\n",
       "      <td>36.741604</td>\n",
       "      <td>1.212600e+01</td>\n",
       "    </tr>\n",
       "    <tr>\n",
       "      <th>2</th>\n",
       "      <td>NNMF_sgd</td>\n",
       "      <td>test</td>\n",
       "      <td>all</td>\n",
       "      <td>mse</td>\n",
       "      <td>2054.950232</td>\n",
       "      <td>1.159434e+03</td>\n",
       "    </tr>\n",
       "    <tr>\n",
       "      <th>3</th>\n",
       "      <td>NNMF_sgd</td>\n",
       "      <td>test</td>\n",
       "      <td>all</td>\n",
       "      <td>rmse</td>\n",
       "      <td>43.228941</td>\n",
       "      <td>1.438398e+01</td>\n",
       "    </tr>\n",
       "    <tr>\n",
       "      <th>4</th>\n",
       "      <td>NNMF_sgd</td>\n",
       "      <td>test</td>\n",
       "      <td>user</td>\n",
       "      <td>correlation</td>\n",
       "      <td>0.000000</td>\n",
       "      <td>1.414214e+00</td>\n",
       "    </tr>\n",
       "    <tr>\n",
       "      <th>5</th>\n",
       "      <td>NNMF_sgd</td>\n",
       "      <td>test</td>\n",
       "      <td>user</td>\n",
       "      <td>mae</td>\n",
       "      <td>36.629386</td>\n",
       "      <td>1.206473e+01</td>\n",
       "    </tr>\n",
       "    <tr>\n",
       "      <th>6</th>\n",
       "      <td>NNMF_sgd</td>\n",
       "      <td>test</td>\n",
       "      <td>user</td>\n",
       "      <td>mse</td>\n",
       "      <td>2042.186382</td>\n",
       "      <td>1.160706e+03</td>\n",
       "    </tr>\n",
       "    <tr>\n",
       "      <th>7</th>\n",
       "      <td>NNMF_sgd</td>\n",
       "      <td>test</td>\n",
       "      <td>user</td>\n",
       "      <td>rmse</td>\n",
       "      <td>37.607371</td>\n",
       "      <td>1.346175e+01</td>\n",
       "    </tr>\n",
       "    <tr>\n",
       "      <th>8</th>\n",
       "      <td>NNMF_sgd</td>\n",
       "      <td>train</td>\n",
       "      <td>all</td>\n",
       "      <td>correlation</td>\n",
       "      <td>1.000000</td>\n",
       "      <td>4.291507e-08</td>\n",
       "    </tr>\n",
       "    <tr>\n",
       "      <th>9</th>\n",
       "      <td>NNMF_sgd</td>\n",
       "      <td>train</td>\n",
       "      <td>all</td>\n",
       "      <td>mae</td>\n",
       "      <td>0.004285</td>\n",
       "      <td>1.732634e-03</td>\n",
       "    </tr>\n",
       "    <tr>\n",
       "      <th>10</th>\n",
       "      <td>NNMF_sgd</td>\n",
       "      <td>train</td>\n",
       "      <td>all</td>\n",
       "      <td>mse</td>\n",
       "      <td>0.000075</td>\n",
       "      <td>6.774931e-05</td>\n",
       "    </tr>\n",
       "    <tr>\n",
       "      <th>11</th>\n",
       "      <td>NNMF_sgd</td>\n",
       "      <td>train</td>\n",
       "      <td>all</td>\n",
       "      <td>rmse</td>\n",
       "      <td>0.007966</td>\n",
       "      <td>3.580199e-03</td>\n",
       "    </tr>\n",
       "    <tr>\n",
       "      <th>12</th>\n",
       "      <td>NNMF_sgd</td>\n",
       "      <td>train</td>\n",
       "      <td>user</td>\n",
       "      <td>correlation</td>\n",
       "      <td>1.000000</td>\n",
       "      <td>1.770242e-07</td>\n",
       "    </tr>\n",
       "    <tr>\n",
       "      <th>13</th>\n",
       "      <td>NNMF_sgd</td>\n",
       "      <td>train</td>\n",
       "      <td>user</td>\n",
       "      <td>mae</td>\n",
       "      <td>0.004134</td>\n",
       "      <td>1.575941e-03</td>\n",
       "    </tr>\n",
       "    <tr>\n",
       "      <th>14</th>\n",
       "      <td>NNMF_sgd</td>\n",
       "      <td>train</td>\n",
       "      <td>user</td>\n",
       "      <td>mse</td>\n",
       "      <td>0.000071</td>\n",
       "      <td>6.149926e-05</td>\n",
       "    </tr>\n",
       "    <tr>\n",
       "      <th>15</th>\n",
       "      <td>NNMF_sgd</td>\n",
       "      <td>train</td>\n",
       "      <td>user</td>\n",
       "      <td>rmse</td>\n",
       "      <td>0.004934</td>\n",
       "      <td>1.825982e-03</td>\n",
       "    </tr>\n",
       "  </tbody>\n",
       "</table>\n",
       "</div>"
      ],
      "text/plain": [
       "   algorithm dataset group       metric         mean           std\n",
       "0   NNMF_sgd    test   all  correlation    -0.404187  8.748287e-01\n",
       "1   NNMF_sgd    test   all          mae    36.741604  1.212600e+01\n",
       "2   NNMF_sgd    test   all          mse  2054.950232  1.159434e+03\n",
       "3   NNMF_sgd    test   all         rmse    43.228941  1.438398e+01\n",
       "4   NNMF_sgd    test  user  correlation     0.000000  1.414214e+00\n",
       "5   NNMF_sgd    test  user          mae    36.629386  1.206473e+01\n",
       "6   NNMF_sgd    test  user          mse  2042.186382  1.160706e+03\n",
       "7   NNMF_sgd    test  user         rmse    37.607371  1.346175e+01\n",
       "8   NNMF_sgd   train   all  correlation     1.000000  4.291507e-08\n",
       "9   NNMF_sgd   train   all          mae     0.004285  1.732634e-03\n",
       "10  NNMF_sgd   train   all          mse     0.000075  6.774931e-05\n",
       "11  NNMF_sgd   train   all         rmse     0.007966  3.580199e-03\n",
       "12  NNMF_sgd   train  user  correlation     1.000000  1.770242e-07\n",
       "13  NNMF_sgd   train  user          mae     0.004134  1.575941e-03\n",
       "14  NNMF_sgd   train  user          mse     0.000071  6.149926e-05\n",
       "15  NNMF_sgd   train  user         rmse     0.004934  1.825982e-03"
      ]
     },
     "execution_count": 159,
     "metadata": {},
     "output_type": "execute_result"
    }
   ],
   "source": [
    "cv_results"
   ]
  },
  {
   "cell_type": "markdown",
   "metadata": {},
   "source": [
    "# Concluding Thoughts"
   ]
  },
  {
   "cell_type": "markdown",
   "metadata": {},
   "source": [
    "This notebook has provided a full example of how to fit a model in several different ways. Here are a few parting tips to help you plan your own analyses:"
   ]
  },
  {
   "cell_type": "markdown",
   "metadata": {},
   "source": [
    "If you already have a _sparse_ dataset, `approximate_generalization` can help you assess how well collborative filtering works for your use case (at the cost of increasing sparsity during evaluation). This approach is the defacto standard in several other collaborative filtering toolboxes such as [Surprise](http://surpriselib.com/). \n",
    "\n",
    "If you're working with a small but _dense_ dataset, using `estimate_performance` maybe preferable. That's because you can leverage ground truth observations and more carefully control how much sparsity you would like to use during model evaluation. This is useful when making new data collection or experimental design choices as it simulates how well a model will perform had your dataset been _sparse_.\n"
   ]
  }
 ],
 "metadata": {
  "kernelspec": {
   "display_name": "Python 3",
   "language": "python",
   "name": "python3"
  },
  "language_info": {
   "codemirror_mode": {
    "name": "ipython",
    "version": 3
   },
   "file_extension": ".py",
   "mimetype": "text/x-python",
   "name": "python",
   "nbconvert_exporter": "python",
   "pygments_lexer": "ipython3",
   "version": "3.8.5"
  },
  "toc": {
   "base_numbering": 1,
   "nav_menu": {},
   "number_sections": false,
   "sideBar": true,
   "skip_h1_title": false,
   "title_cell": "Table of Contents",
   "title_sidebar": "Contents",
   "toc_cell": false,
   "toc_position": {},
   "toc_section_display": true,
   "toc_window_display": false
  }
 },
 "nbformat": 4,
 "nbformat_minor": 4
}
